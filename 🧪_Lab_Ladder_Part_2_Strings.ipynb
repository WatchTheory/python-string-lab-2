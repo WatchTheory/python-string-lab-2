{
  "cells": [
    {
      "cell_type": "markdown",
      "metadata": {
        "id": "view-in-github",
        "colab_type": "text"
      },
      "source": [
        "<a href=\"https://colab.research.google.com/github/WatchTheory/python-string-lab-2/blob/main/%F0%9F%A7%AA_Lab_Ladder_Part_2_Strings.ipynb\" target=\"_parent\"><img src=\"https://colab.research.google.com/assets/colab-badge.svg\" alt=\"Open In Colab\"/></a>"
      ]
    },
    {
      "cell_type": "markdown",
      "metadata": {
        "id": "1xbyIYOxEjtO"
      },
      "source": [
        "<div>\n",
        "<img src=\"https://coursereport-s3-production.global.ssl.fastly.net/uploads/school/logo/219/original/CT_LOGO_NEW.jpg\" width=60>\n",
        "</div>\n",
        "\n",
        "# **Python Ladder Challenges - Strings**\n"
      ]
    },
    {
      "cell_type": "markdown",
      "metadata": {
        "id": "KnVBAM15EjtU"
      },
      "source": [
        "# Climb the Ladder!\n",
        "Welcome to Part 2 of our ladder! Our class moves quickly! Sometimes, it feels like we make leaps in logic that are a bit too big. Learn Python _slowly_, by doing many, many examples. Problems in this notebook start out easy and progressively get harder, so that the next rung of the Python ladder is always within reach."
      ]
    },
    {
      "cell_type": "markdown",
      "metadata": {
        "id": "OlYrePQ8Ejtd"
      },
      "source": [
        "# Section II: Strings"
      ]
    },
    {
      "cell_type": "markdown",
      "metadata": {
        "id": "X386XKm-Ejtd"
      },
      "source": [
        "12) Create a variable called `name` that is equal to your name."
      ]
    },
    {
      "cell_type": "code",
      "execution_count": null,
      "metadata": {
        "id": "bukLpTVDEjte"
      },
      "outputs": [],
      "source": [
        "str = \"Casey\""
      ]
    },
    {
      "cell_type": "markdown",
      "metadata": {
        "id": "TsXPy0wpEjtf"
      },
      "source": [
        "13) PART A) By adding strings together, introduce yourself in a string. For example `\"Hello, my name is Katie!\"`. Use concatenation (`+`) to do this."
      ]
    },
    {
      "cell_type": "code",
      "execution_count": null,
      "metadata": {
        "id": "6pJ0VMNcEjtg",
        "colab": {
          "base_uri": "https://localhost:8080/"
        },
        "outputId": "b82a913d-c8f9-4268-87c2-e6280ed10b50"
      },
      "outputs": [
        {
          "output_type": "stream",
          "name": "stdout",
          "text": [
            "Hello my name is Casey\n"
          ]
        }
      ],
      "source": [
        "print(\"Hello my name is \" + str)"
      ]
    },
    {
      "cell_type": "markdown",
      "source": [
        "13) PART B) By adding strings together, introduce yourself in a string. For example `\"Hello, my name is Katie!\"`. Use an f-string to do this."
      ],
      "metadata": {
        "id": "7-JP8kNcwEnu"
      }
    },
    {
      "cell_type": "code",
      "source": [
        "print(f'Hello my name ' + str)"
      ],
      "metadata": {
        "id": "w9oKvL62wEa1",
        "colab": {
          "base_uri": "https://localhost:8080/"
        },
        "outputId": "622934d1-f794-4bd2-f629-1af1bfd04f43"
      },
      "execution_count": null,
      "outputs": [
        {
          "output_type": "stream",
          "name": "stdout",
          "text": [
            "Hello my name Casey\n"
          ]
        }
      ]
    },
    {
      "cell_type": "markdown",
      "metadata": {
        "id": "hCuVoh9HEjtp"
      },
      "source": [
        "14) Define the string `sentence` to be `\"I love learning Python.\"`"
      ]
    },
    {
      "cell_type": "code",
      "execution_count": null,
      "metadata": {
        "id": "MqRrV_baEjtr"
      },
      "outputs": [],
      "source": [
        "sentence = 'I love learning Python.'"
      ]
    },
    {
      "cell_type": "markdown",
      "metadata": {
        "id": "XblEBGROEjtr"
      },
      "source": [
        "15) Index `sentence` in order to get the \"a\" in \"learning\"."
      ]
    },
    {
      "cell_type": "code",
      "execution_count": null,
      "metadata": {
        "id": "5-x96jINEjts",
        "colab": {
          "base_uri": "https://localhost:8080/"
        },
        "outputId": "60da301e-84a7-4451-86be-c3ef905edf44"
      },
      "outputs": [
        {
          "output_type": "stream",
          "name": "stdout",
          "text": [
            "a\n"
          ]
        }
      ],
      "source": [
        "sameple_index = sentence[9]\n",
        "print(sameple_index)"
      ]
    },
    {
      "cell_type": "markdown",
      "metadata": {
        "id": "CEOgp2C-Ejts"
      },
      "source": [
        "16) Index `sentence` in order to get the \"y\" in \"Python\" using a negative index."
      ]
    },
    {
      "cell_type": "code",
      "execution_count": null,
      "metadata": {
        "id": "Y6dyrCdIEjts",
        "colab": {
          "base_uri": "https://localhost:8080/"
        },
        "outputId": "7336f6dd-3d5a-4157-a37d-7d0aee1e2b51"
      },
      "outputs": [
        {
          "output_type": "stream",
          "name": "stdout",
          "text": [
            "y\n"
          ]
        }
      ],
      "source": [
        "sample_index_2 = sentence[-5]\n",
        "print(sample_index_2)"
      ]
    },
    {
      "cell_type": "markdown",
      "metadata": {
        "id": "Y_tU2W06Ejts"
      },
      "source": [
        "17) Slice `sentence` in order to get the word \"love\"."
      ]
    },
    {
      "cell_type": "code",
      "execution_count": null,
      "metadata": {
        "id": "P_tSwyQwEjtt",
        "colab": {
          "base_uri": "https://localhost:8080/"
        },
        "outputId": "1f9679e6-e507-446a-a365-0ca1ffeb02b2"
      },
      "outputs": [
        {
          "output_type": "stream",
          "name": "stdout",
          "text": [
            "love\n"
          ]
        }
      ],
      "source": [
        "index_3 = sentence[2:6]\n",
        "print(index_3)"
      ]
    },
    {
      "cell_type": "markdown",
      "metadata": {
        "id": "lb1-YiNqEjtt"
      },
      "source": [
        "18) Uppercase `sentence`."
      ]
    },
    {
      "cell_type": "code",
      "execution_count": null,
      "metadata": {
        "id": "HmMtHN1ZEjtt",
        "colab": {
          "base_uri": "https://localhost:8080/"
        },
        "outputId": "285e3905-6d57-491f-846c-67e50436111f"
      },
      "outputs": [
        {
          "output_type": "stream",
          "name": "stdout",
          "text": [
            "I LOVE LEARNING PYTHON\n"
          ]
        }
      ],
      "source": [
        "upper_str = sentence.upper()\n",
        "\n",
        "print(upper_str)"
      ]
    },
    {
      "cell_type": "markdown",
      "metadata": {
        "id": "al6wzywOEjtu"
      },
      "source": [
        "19) Replace the period at the end of `sentence` with an exclamation point."
      ]
    },
    {
      "cell_type": "code",
      "execution_count": null,
      "metadata": {
        "id": "hX9Tlj7JEjtu",
        "colab": {
          "base_uri": "https://localhost:8080/"
        },
        "outputId": "698b8337-f295-4322-d8ea-4b2f09f07724"
      },
      "outputs": [
        {
          "output_type": "stream",
          "name": "stdout",
          "text": [
            "I love learning Python!\n"
          ]
        }
      ],
      "source": [
        "new_sentence = sentence.replace('Python.','Python!')\n",
        "print(new_sentence)"
      ]
    },
    {
      "cell_type": "markdown",
      "metadata": {
        "id": "HI0X46elEjtv"
      },
      "source": [
        "20) Use `.split()` to get the second word of this string. Was this easier than the method you used for #17?"
      ]
    },
    {
      "cell_type": "code",
      "execution_count": null,
      "metadata": {
        "id": "ZNchbcTREjtw",
        "colab": {
          "base_uri": "https://localhost:8080/"
        },
        "outputId": "3d91265c-cd7a-4ad9-89ae-ddc44510e65b"
      },
      "outputs": [
        {
          "output_type": "stream",
          "name": "stdout",
          "text": [
            "['I', 'love', 'learning', 'Python.']\n"
          ]
        }
      ],
      "source": [
        "index_4 = sentence.split()\n",
        "print(index_4)"
      ]
    },
    {
      "cell_type": "markdown",
      "metadata": {
        "id": "LyPjduCSEjtw"
      },
      "source": [
        "21) Reverse `sentence`."
      ]
    },
    {
      "cell_type": "code",
      "execution_count": null,
      "metadata": {
        "id": "Ph0LEsbAEjtx",
        "colab": {
          "base_uri": "https://localhost:8080/"
        },
        "outputId": "8549e213-88ec-4f49-bc0b-e23f6f04ab54"
      },
      "outputs": [
        {
          "output_type": "stream",
          "name": "stdout",
          "text": [
            ".nohtyP gninrael evol I\n"
          ]
        }
      ],
      "source": [
        "reversed_string = sentence[::-1]\n",
        "print(reversed_string)"
      ]
    },
    {
      "cell_type": "markdown",
      "metadata": {
        "id": "516fE4nyEjtx"
      },
      "source": [
        "\n",
        "22) Does `sentence` contain the letter `y`? HINT: Use the `in` keyword."
      ]
    },
    {
      "cell_type": "code",
      "execution_count": null,
      "metadata": {
        "id": "AnWHI2XsEjtx",
        "colab": {
          "base_uri": "https://localhost:8080/"
        },
        "outputId": "af8c9c68-9502-40e0-cd35-9bf43fce27c1"
      },
      "outputs": [
        {
          "output_type": "stream",
          "name": "stdout",
          "text": [
            "True\n"
          ]
        }
      ],
      "source": [
        "letter = 'y'\n",
        "if letter in sentence:\n",
        "  print(True)\n",
        "else:\n",
        "  print(False)"
      ]
    },
    {
      "cell_type": "markdown",
      "metadata": {
        "id": "36b6VN0gEjty"
      },
      "source": [
        "23) How many `o`s does `sentence` have? HINT: Use the `count` method."
      ]
    },
    {
      "cell_type": "code",
      "execution_count": null,
      "metadata": {
        "id": "sBRlykJAEjty",
        "colab": {
          "base_uri": "https://localhost:8080/"
        },
        "outputId": "a9c84f25-03b7-4a50-9e96-2a7de8615373"
      },
      "outputs": [
        {
          "output_type": "stream",
          "name": "stdout",
          "text": [
            "2\n"
          ]
        }
      ],
      "source": [
        "o_count = sentence.count('o')\n",
        "print(o_count)"
      ]
    },
    {
      "cell_type": "markdown",
      "metadata": {
        "id": "KZeeqC-EEjtz"
      },
      "source": [
        "24) Replace all the `o`s in `sentence` with an underscore (do not redefine `sentence`)."
      ]
    },
    {
      "cell_type": "code",
      "execution_count": null,
      "metadata": {
        "id": "TC1SErHMEjt0",
        "colab": {
          "base_uri": "https://localhost:8080/"
        },
        "outputId": "b26ae05e-453b-4f39-f090-668c391d156f"
      },
      "outputs": [
        {
          "output_type": "stream",
          "name": "stdout",
          "text": [
            "I l_ve learning Pyth_n.\n"
          ]
        }
      ],
      "source": [
        "o_replace = sentence.replace('o', '_')\n",
        "print(o_replace)"
      ]
    },
    {
      "cell_type": "code",
      "source": [],
      "metadata": {
        "id": "K4u_Bb6H_EKC"
      },
      "execution_count": null,
      "outputs": []
    }
  ],
  "metadata": {
    "colab": {
      "provenance": [],
      "include_colab_link": true
    },
    "kernelspec": {
      "display_name": "Python 3",
      "language": "python",
      "name": "python3"
    },
    "language_info": {
      "codemirror_mode": {
        "name": "ipython",
        "version": 3
      },
      "file_extension": ".py",
      "mimetype": "text/x-python",
      "name": "python",
      "nbconvert_exporter": "python",
      "pygments_lexer": "ipython3",
      "version": "3.8.3"
    }
  },
  "nbformat": 4,
  "nbformat_minor": 0
}